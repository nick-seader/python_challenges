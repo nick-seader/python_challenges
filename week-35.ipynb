{
 "cells": [
  {
   "attachments": {},
   "cell_type": "markdown",
   "metadata": {},
   "source": [
    "# Python Challenge - Week 35"
   ]
  },
  {
   "attachments": {},
   "cell_type": "markdown",
   "metadata": {},
   "source": [
    "# Very Easy\n",
    "\n",
    "Write a function that takes the base and height of a triangle and return its area."
   ]
  },
  {
   "cell_type": "code",
   "execution_count": 1,
   "metadata": {},
   "outputs": [],
   "source": [
    "def tri_area(base, height) ->float:\n",
    "    # Type check the inputs\n",
    "    if isinstance(base, (int, float)) == False \\\n",
    "    or isinstance(height, (int, float)) == False:\n",
    "        print('Please enter an integer or float!')\n",
    "        return None\n",
    "    \n",
    "    area = 0.5 * base * height\n",
    "    \n",
    "    return area"
   ]
  },
  {
   "cell_type": "code",
   "execution_count": 2,
   "metadata": {},
   "outputs": [
    {
     "data": {
      "text/plain": [
       "26.25"
      ]
     },
     "execution_count": 2,
     "metadata": {},
     "output_type": "execute_result"
    }
   ],
   "source": [
    "tri_area(10.5, 5)"
   ]
  },
  {
   "attachments": {},
   "cell_type": "markdown",
   "metadata": {},
   "source": [
    "# Easy\n",
    "\n",
    "Create a function that takes an integer and returns the factorial of that integer. \n",
    "\n",
    "That is, the integer multiplied by all positive lower integers."
   ]
  },
  {
   "cell_type": "code",
   "execution_count": 3,
   "metadata": {},
   "outputs": [],
   "source": [
    "def factorial(integer: int) ->int:\n",
    "    # Type check the input\n",
    "    if type(integer) != int:\n",
    "        print('Please enter an integer!')\n",
    "        return None\n",
    "    \n",
    "    factor = 1\n",
    "    for i in range(integer, 0, -1):\n",
    "        factor = factor * i\n",
    "\n",
    "    return factor"
   ]
  },
  {
   "cell_type": "code",
   "execution_count": 4,
   "metadata": {},
   "outputs": [
    {
     "data": {
      "text/plain": [
       "720"
      ]
     },
     "execution_count": 4,
     "metadata": {},
     "output_type": "execute_result"
    }
   ],
   "source": [
    "factorial(6)"
   ]
  },
  {
   "attachments": {},
   "cell_type": "markdown",
   "metadata": {},
   "source": [
    "# Medium\n",
    "\n",
    "Write a function that takes a list of numbers and returns a list with two elements:\n",
    "\n",
    "1.    The first element should be the sum of all even numbers in the list.\n",
    "2.    The second element should be the sum of all odd numbers in the list"
   ]
  },
  {
   "cell_type": "code",
   "execution_count": 5,
   "metadata": {},
   "outputs": [],
   "source": [
    "def sum_odd_and_even(l: list) ->list:\n",
    "    # Type check the input\n",
    "    if type(l) != list:\n",
    "        print('Please enter a list!')\n",
    "        return None\n",
    "    \n",
    "    # Type check the contents of the list for integers\n",
    "    if all(isinstance(n, int) for n in l) == False:\n",
    "        print('List must only contain integer numbers!')\n",
    "        return None\n",
    "\n",
    "    # Do the calculations\n",
    "    even_sum = 0\n",
    "    odd_sum = 0\n",
    "\n",
    "    for i in range(len(l)):\n",
    "        if l[i] % 2 == 0:\n",
    "            even_sum += l[i]\n",
    "        else:\n",
    "            odd_sum += l[i]\n",
    "\n",
    "    return [even_sum, odd_sum]"
   ]
  },
  {
   "cell_type": "code",
   "execution_count": 6,
   "metadata": {},
   "outputs": [
    {
     "data": {
      "text/plain": [
       "[-12, -9]"
      ]
     },
     "execution_count": 6,
     "metadata": {},
     "output_type": "execute_result"
    }
   ],
   "source": [
    "sum_odd_and_even([-1, -2, -3, -4, -5, -6])"
   ]
  },
  {
   "attachments": {},
   "cell_type": "markdown",
   "metadata": {},
   "source": [
    "# Hard\n",
    "\n",
    "Create a function that returns the majority vote in a list. \n",
    "\n",
    "A majority vote is an element that occurs > N/2 times in a list (where N is the length of the list)."
   ]
  },
  {
   "cell_type": "code",
   "execution_count": 71,
   "metadata": {},
   "outputs": [],
   "source": [
    "def majority_vote(l: list):\n",
    "    from operator import itemgetter\n",
    "    \n",
    "    if type(l) != list:\n",
    "        print('Please enter a list!')\n",
    "        return None\n",
    "    \n",
    "    if len(l) == 0:\n",
    "        print('Please enter a list that contains values!')\n",
    "        return None\n",
    "    \n",
    "    # Get length of the list\n",
    "    n = len(l)\n",
    "    \n",
    "    # Create a dictionary to hold votes and counts\n",
    "    votes = {}\n",
    "\n",
    "    # Loop through the contents in the list\n",
    "    for i in range(len(l)):\n",
    "        # make the value a string and lower case\n",
    "        vote = str(l[i]).lower()\n",
    "        \n",
    "        # add the votes to the dictionary\n",
    "        if vote in votes.keys():\n",
    "            votes[vote] += 1\n",
    "        else:\n",
    "            votes[vote] = 1\n",
    "\n",
    "    # Find the dictionary key with the highest value\n",
    "    key, value = max(votes.items(), key=itemgetter(0))\n",
    "\n",
    "    if value >= n/2:\n",
    "        print(f'The majority vote is {key} with {value} out of {n} votes.')\n",
    "        return key\n",
    "    else:\n",
    "        print('There was no majority winner...')\n",
    "        return None\n",
    "\n",
    "\n"
   ]
  },
  {
   "cell_type": "code",
   "execution_count": 73,
   "metadata": {},
   "outputs": [
    {
     "name": "stdout",
     "output_type": "stream",
     "text": [
      "There was no majority winner...\n"
     ]
    }
   ],
   "source": [
    "majority_vote(['A', 'b', 'b', 'c', 'c', 'd'])"
   ]
  }
 ],
 "metadata": {
  "kernelspec": {
   "display_name": "data-python",
   "language": "python",
   "name": "python3"
  },
  "language_info": {
   "codemirror_mode": {
    "name": "ipython",
    "version": 3
   },
   "file_extension": ".py",
   "mimetype": "text/x-python",
   "name": "python",
   "nbconvert_exporter": "python",
   "pygments_lexer": "ipython3",
   "version": "3.11.3"
  },
  "orig_nbformat": 4
 },
 "nbformat": 4,
 "nbformat_minor": 2
}
