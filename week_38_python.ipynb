{
 "cells": [
  {
   "attachments": {},
   "cell_type": "markdown",
   "metadata": {},
   "source": [
    "# Week 38 Python Challenge"
   ]
  },
  {
   "attachments": {},
   "cell_type": "markdown",
   "metadata": {},
   "source": [
    "# Easy\n",
    "\n",
    "Write a Python function that accepts a string as input and returns a dictionary containing the count of each character in the string. \n",
    "\n",
    "For example, given the string \"banana\", the function should return {'b': 1, 'a': 3, 'n': 2}."
   ]
  },
  {
   "cell_type": "code",
   "execution_count": 1,
   "metadata": {},
   "outputs": [
    {
     "name": "stdout",
     "output_type": "stream",
     "text": [
      "{'b': 1, 'a': 3, 'n': 2}\n"
     ]
    }
   ],
   "source": [
    "def count_char(input:str) ->dict:\n",
    "    if type(input) != str:\n",
    "        print('Please enter a string')\n",
    "        return None\n",
    "    \n",
    "    char_count = {}\n",
    "    \n",
    "    for char in input:\n",
    "        if char in char_count:\n",
    "            char_count[char] += 1\n",
    "        else:\n",
    "            char_count[char] = 1\n",
    "\n",
    "    return char_count\n",
    "\n",
    "print(count_char('banana'))"
   ]
  },
  {
   "attachments": {},
   "cell_type": "markdown",
   "metadata": {},
   "source": [
    "# Medium\n",
    "\n",
    "Given a list of tuples representing student information like students = [(\"John\", 15, \"Grade 10\"), (\"Emily\", 14, \"Grade 9\"), (\"Sam\", 16, \"Grade 11\")], write a Python function to filter out the students who are older than 15."
   ]
  },
  {
   "cell_type": "code",
   "execution_count": 2,
   "metadata": {},
   "outputs": [
    {
     "name": "stdout",
     "output_type": "stream",
     "text": [
      "[('Sam', 16, 'Grade 11')]\n"
     ]
    }
   ],
   "source": [
    "def filter_15(students):\n",
    "    filtered_students = []\n",
    "\n",
    "    for student in students:\n",
    "        # Take apart tuple\n",
    "        name, age, grade = student\n",
    "        if age > 15:\n",
    "            filtered_students.append(student)\n",
    "\n",
    "    return filtered_students\n",
    "\n",
    "students = [(\"John\", 15, \"Grade 10\"), (\"Emily\", 14, \"Grade 9\"), (\"Sam\", 16, \"Grade 11\")]\n",
    "print(filter_15(students))"
   ]
  },
  {
   "attachments": {},
   "cell_type": "markdown",
   "metadata": {},
   "source": [
    "# Hard\n",
    "\n",
    "Let's assume you have a list of tuples stored in the variable transactions, each representing a transaction in an e-commerce store where the first element is the transaction ID, the second element is the product ID, and the third element is the price.\n",
    "\n",
    "```\n",
    "transactions = [ \n",
    "(1, 101, 15.0), \n",
    "(2, 102, 20.0), \n",
    "(3, 101, 15.0), \n",
    "(4, 103, 10.0), \n",
    "(5, 102, 20.0), \n",
    "(6, 101, 15.0), \n",
    "(7, 103, 10.0), \n",
    "(8, 102, 20.0), \n",
    "(9, 103, 10.0), \n",
    "] \n",
    "```\n",
    "\n",
    "Write a Python function to find the product with the highest total sales."
   ]
  },
  {
   "cell_type": "code",
   "execution_count": null,
   "metadata": {},
   "outputs": [],
   "source": []
  },
  {
   "attachments": {},
   "cell_type": "markdown",
   "metadata": {},
   "source": [
    "# Bonus: OOP\n",
    "\n",
    "In Python, OOP allows us to encapsulate related properties and behaviors into individual objects. This challenge will involve creating a simple class and methods.\n",
    "The problem is to create a Circle class that represents a circle. The circle will be initialized with a radius. The class should have the following methods:\n",
    "\n",
    "•    get_radius(): This method should return the radius of the circle.\n",
    "\n",
    "•    set_radius(new_radius): This method should set a new radius for the circle.\n",
    "\n",
    "•    calculate_area(): This method should calculate and return the area of the circle using the formula πr^2. You can use 3.14 as the approximation for π.\n",
    "\n",
    "•    calculate_circumference(): This method should calculate and return the circumference of the circle using the formula 2πr.\n",
    "To test your implementation, create an instance of the circle with a radius of 5, update the radius to 10, and then calculate the area and circumference."
   ]
  },
  {
   "cell_type": "code",
   "execution_count": null,
   "metadata": {},
   "outputs": [],
   "source": []
  }
 ],
 "metadata": {
  "kernelspec": {
   "display_name": "data-python",
   "language": "python",
   "name": "python3"
  },
  "language_info": {
   "codemirror_mode": {
    "name": "ipython",
    "version": 3
   },
   "file_extension": ".py",
   "mimetype": "text/x-python",
   "name": "python",
   "nbconvert_exporter": "python",
   "pygments_lexer": "ipython3",
   "version": "3.11.3"
  },
  "orig_nbformat": 4
 },
 "nbformat": 4,
 "nbformat_minor": 2
}
