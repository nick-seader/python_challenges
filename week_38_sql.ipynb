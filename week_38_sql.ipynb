{
 "cells": [
  {
   "attachments": {},
   "cell_type": "markdown",
   "metadata": {},
   "source": [
    "# Week 38 SQL Challenge\n",
    "\n",
    "We will be doing the following SQL questions\n",
    "\n",
    "1. https://buff.ly/3Iaj2iY \n",
    "2. https://buff.ly/3W7qlOh \n",
    "3. https://buff.ly/42EpneR "
   ]
  },
  {
   "cell_type": "code",
   "execution_count": null,
   "metadata": {},
   "outputs": [],
   "source": []
  }
 ],
 "metadata": {
  "language_info": {
   "name": "python"
  },
  "orig_nbformat": 4
 },
 "nbformat": 4,
 "nbformat_minor": 2
}
