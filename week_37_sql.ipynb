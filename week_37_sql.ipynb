{
 "cells": [
  {
   "attachments": {},
   "cell_type": "markdown",
   "metadata": {},
   "source": [
    "# Week 37 SQL Challenge\n",
    "\n",
    "We will be doing the following SQL questions\n",
    "\n",
    "1. https://buff.ly/3VG4nSr \n",
    "2. https://buff.ly/3B3uQQ6 "
   ]
  },
  {
   "cell_type": "code",
   "execution_count": null,
   "metadata": {},
   "outputs": [],
   "source": []
  }
 ],
 "metadata": {
  "language_info": {
   "name": "python"
  },
  "orig_nbformat": 4
 },
 "nbformat": 4,
 "nbformat_minor": 2
}
