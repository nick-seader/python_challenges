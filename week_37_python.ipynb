{
 "cells": [
  {
   "attachments": {},
   "cell_type": "markdown",
   "metadata": {},
   "source": [
    "# Week 37 Python Challenge"
   ]
  },
  {
   "attachments": {},
   "cell_type": "markdown",
   "metadata": {},
   "source": [
    "# Easy"
   ]
  },
  {
   "attachments": {},
   "cell_type": "markdown",
   "metadata": {},
   "source": [
    "Create a function that takes a string and returns the number (count) of vowels contained within it.\n",
    "\n",
    "Examples\n",
    "```\n",
    "count_vowels(\"Celebration\") ➞ 5\n",
    "\n",
    "count_vowels(\"Palm\") ➞ 1\n",
    "\n",
    "count_vowels(\"Prediction\") ➞ 4\n",
    "```\n",
    "\n",
    "Notes\n",
    "\n",
    "•    a, e, i, o, u are considered vowels (not y).\n",
    "\n",
    "•    All test cases are one word and only contain letters."
   ]
  },
  {
   "cell_type": "code",
   "execution_count": 2,
   "metadata": {},
   "outputs": [
    {
     "name": "stdout",
     "output_type": "stream",
     "text": [
      "5\n",
      "1\n",
      "4\n"
     ]
    }
   ],
   "source": [
    "def count_vowels(word:str) ->int:\n",
    "    if type(word) != str:\n",
    "        print('Please enter a string')\n",
    "        return None\n",
    "    \n",
    "    vowels = \"aeiouAEIOU\"\n",
    "    count = 0\n",
    "    for char in word:\n",
    "        if char in vowels:\n",
    "            count += 1\n",
    "\n",
    "    return count\n",
    "\n",
    "print(count_vowels(\"Celebration\"))\n",
    "print(count_vowels(\"Palm\"))\n",
    "print(count_vowels(\"Prediction\"))"
   ]
  },
  {
   "attachments": {},
   "cell_type": "markdown",
   "metadata": {},
   "source": [
    "# Medium"
   ]
  },
  {
   "attachments": {},
   "cell_type": "markdown",
   "metadata": {},
   "source": [
    "Create a function that converts a date formatted as MM/DD/YYYY to YYYYDDMM.\n",
    "\n",
    "Examples\n",
    "```\n",
    "format_date(\"11/12/2019\") ➞ \"20191211\"\n",
    "\n",
    "format_date(\"12/31/2019\") ➞ \"20193112\"\n",
    "\n",
    "format_date(\"01/15/2019\") ➞ \"20191501\"\n",
    "```\n",
    "\n",
    "Note: Return value should be a string."
   ]
  },
  {
   "cell_type": "code",
   "execution_count": 7,
   "metadata": {},
   "outputs": [
    {
     "name": "stdout",
     "output_type": "stream",
     "text": [
      "20191211\n",
      "20193112\n",
      "20191501\n"
     ]
    }
   ],
   "source": [
    "def format_date(date:str) ->str:\n",
    "    if type(date) != str:\n",
    "        print('Please enter a string')\n",
    "        return None\n",
    "\n",
    "    month,day,year = date.split('/')\n",
    "    new_date = year + day + month\n",
    "\n",
    "    return new_date\n",
    "\n",
    "print(format_date(\"11/12/2019\"))\n",
    "print(format_date(\"12/31/2019\"))\n",
    "print(format_date(\"01/15/2019\"))"
   ]
  },
  {
   "attachments": {},
   "cell_type": "markdown",
   "metadata": {},
   "source": [
    "# Hard"
   ]
  },
  {
   "attachments": {},
   "cell_type": "markdown",
   "metadata": {},
   "source": [
    "Create a function that takes in two words as input and returns a list of three elements, in the following order:\n",
    "\n",
    "1. Shared letters between two words. \n",
    "2. Letters unique to the first word\n",
    "3. Letters unique to the second word. \n",
    "\n",
    "Each element should have unique letters, and have each letter be alphabetically \n",
    "sorted.\n",
    "\n",
    "Examples \n",
    "```\n",
    "letters(“sharp”, “soap”) ➞ [“aps”, “hr”, “o”]\n",
    "letters(“board”, “bored”) ➞ [“bdor”, “a”, “e”]\n",
    "letters(“happiness”, “envelope”) ➞ [“enp”, “ahis”, “lov”]\n",
    "letters(“kerfuffle”, “fluffy”) ➞ [“flu”, “ekr”, “y”] \n",
    "letters(“match”, “ham”) ➞ [“ahm”, “ct”, “”]\n",
    "```\n",
    "\n",
    "Notes\n",
    "\n",
    "•    Both words will be in lower case.\n",
    "\n",
    "•    You do not have to worry about punctuation, all words only have letters from [a-z].\n",
    "\n",
    "•    If an element contains no letters, return an empty string (see last example).\n"
   ]
  },
  {
   "cell_type": "code",
   "execution_count": 10,
   "metadata": {},
   "outputs": [
    {
     "name": "stdout",
     "output_type": "stream",
     "text": [
      "['aps', 'hr', 'o']\n",
      "['bdor', 'a', 'e']\n",
      "['enp', 'ahis', 'lov']\n",
      "['flu', 'ekr', 'y']\n",
      "['ahm', 'ct', '']\n"
     ]
    }
   ],
   "source": [
    "# oof\n",
    "def letters(word1, word2):\n",
    "    if type(word1) != str or type(word2) != str:\n",
    "        print('Please enter strings for words')\n",
    "        return None\n",
    "    \n",
    "    # Shared letters between two words, sorted\n",
    "    shared = ''.join(sorted(set(word1) & set(word2)))\n",
    "    \n",
    "    # Letters unique to the first word, sorted\n",
    "    unique_word1 = ''.join(sorted(set(word1) - set(word2)))\n",
    "    \n",
    "    # Letters unique to the second word, sorted\n",
    "    unique_word2 = ''.join(sorted(set(word2) - set(word1)))\n",
    "\n",
    "    return [shared, unique_word1, unique_word2]\n",
    "\n",
    "\n",
    "print(letters(\"sharp\", \"soap\"))\n",
    "print(letters('board', 'bored'))\n",
    "print(letters('happiness', 'envelope'))\n",
    "print(letters('kerfuffle', 'fluffy'))\n",
    "print(letters('match', 'ham'))"
   ]
  },
  {
   "attachments": {},
   "cell_type": "markdown",
   "metadata": {},
   "source": [
    "# Expert"
   ]
  },
  {
   "attachments": {},
   "cell_type": "markdown",
   "metadata": {},
   "source": [
    "Create a function that returns the product of two integers. This process of multiplication can be achieved via repetitive addition, thus, the process can be done recursively.\n",
    "\n",
    "Examples\n",
    "```\n",
    "multiply(10, 2) ➞ 20\n",
    "\n",
    "multiply(-51, -4) ➞ 204\n",
    "\n",
    "multiply(3, 9) ➞ 27\n",
    "\n",
    "multiply(-21, 5) ➞ -105\n",
    "\n",
    "multiply(1024, 7) ➞ 7168\n",
    "\n",
    "multiply(273, -6) ➞ -1638\n",
    "```\n",
    "\n",
    "Notes\n",
    "\n",
    "•    You're expected to solve this challenge using a recursive approach"
   ]
  },
  {
   "cell_type": "code",
   "execution_count": 14,
   "metadata": {},
   "outputs": [
    {
     "name": "stdout",
     "output_type": "stream",
     "text": [
      "20\n",
      "204\n",
      "27\n",
      "-105\n",
      "7168\n",
      "-1638\n"
     ]
    }
   ],
   "source": [
    "# You are a monster\n",
    "\n",
    "# This function treats y as a counter in a for-loop\n",
    "def multiply (x, y):\n",
    "    if type(x) != int or type(y) != int:\n",
    "        print('Please enter integer values')\n",
    "        return None\n",
    "    \n",
    "    # Base case: if either x or y is zero, the result is zero\n",
    "    if x == 0 or y == 0:\n",
    "        return 0\n",
    "\n",
    "    # Recursive case: add x to the product of (x, y-1)\n",
    "    if y > 0:\n",
    "        return x + multiply(x, y - 1)\n",
    "    else:\n",
    "        # If y is negative, negate the result to handle negative multiplication\n",
    "        return -multiply(x, -y)\n",
    "\n",
    "print(multiply(10, 2))\n",
    "print(multiply(-51, -4))\n",
    "print(multiply(3, 9))\n",
    "print(multiply(-21, 5))\n",
    "print(multiply(1024, 7))\n",
    "print(multiply(273, -6))"
   ]
  }
 ],
 "metadata": {
  "kernelspec": {
   "display_name": "data-python",
   "language": "python",
   "name": "python3"
  },
  "language_info": {
   "codemirror_mode": {
    "name": "ipython",
    "version": 3
   },
   "file_extension": ".py",
   "mimetype": "text/x-python",
   "name": "python",
   "nbconvert_exporter": "python",
   "pygments_lexer": "ipython3",
   "version": "3.11.3"
  },
  "orig_nbformat": 4
 },
 "nbformat": 4,
 "nbformat_minor": 2
}
