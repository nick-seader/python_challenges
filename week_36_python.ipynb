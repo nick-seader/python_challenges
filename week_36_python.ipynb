{
 "cells": [
  {
   "attachments": {},
   "cell_type": "markdown",
   "metadata": {},
   "source": [
    "# Week 36 Python Challenge"
   ]
  },
  {
   "attachments": {},
   "cell_type": "markdown",
   "metadata": {},
   "source": [
    "# Easy\n",
    "\n",
    "1. Write a Python function that takes a list of numbers and calculates the geometric mean.\n",
    "\n",
    "Do not use built in functions."
   ]
  },
  {
   "cell_type": "code",
   "execution_count": 1,
   "metadata": {},
   "outputs": [
    {
     "name": "stdout",
     "output_type": "stream",
     "text": [
      "2.605171084697352 \n",
      "\n",
      "Please enter a list!\n",
      "None\n"
     ]
    }
   ],
   "source": [
    "# Geometric mean is the n-root of the product of n values.\n",
    "\n",
    "geo_mean_list = [1, 2, 3, 4, 5, 5, 4, 3, 2, 1]\n",
    "wrong = \"apple\"\n",
    "\n",
    "def geometric_mean(l: list) ->float:\n",
    "    # Error check input type\n",
    "    if type(l) != list:\n",
    "        print('Please enter a list!')\n",
    "        return None\n",
    "    \n",
    "    # Get the length of the list\n",
    "    n = len(l)\n",
    "\n",
    "    # For loop to calculate the product\n",
    "    result = l[0]\n",
    "    for i in range(1, n):\n",
    "        result *= l[i]\n",
    "\n",
    "    # Take the n-root of the result\n",
    "    result = result ** (1/n)\n",
    "\n",
    "    # Return the result\n",
    "    return result\n",
    "\n",
    "print(geometric_mean(geo_mean_list), \"\\n\")\n",
    "print(geometric_mean(wrong))"
   ]
  },
  {
   "attachments": {},
   "cell_type": "markdown",
   "metadata": {},
   "source": [
    "2. Given input_list = [1, 2, 2, 45, 60, 3, 3, 3, 4, 5, 5]. Write a Python program to remove duplicates from the given list of values.\n",
    "\n",
    "Note: Do not use built in functions. \n",
    "\n",
    "Comment: One adds a value to a list by using `append()`, so..."
   ]
  },
  {
   "cell_type": "code",
   "execution_count": 2,
   "metadata": {},
   "outputs": [
    {
     "name": "stdout",
     "output_type": "stream",
     "text": [
      "[1, 2, 45, 60, 3, 4, 5] \n",
      "\n",
      "Please enter a list!\n",
      "None\n"
     ]
    }
   ],
   "source": [
    "input_list = [1, 2, 2, 45, 60, 3, 3, 3, 4, 5, 5]\n",
    "wrong = \"apple\"\n",
    "\n",
    "def remove_duplicates(l: list) ->list:\n",
    "    # Error check input type\n",
    "    if type(l) != list:\n",
    "        print('Please enter a list!')\n",
    "        return None\n",
    "    \n",
    "    # Make an empty list of non-duplicates\n",
    "    result=[]\n",
    "    for i in l:\n",
    "        if i not in result:\n",
    "            result.append(i)\n",
    "\n",
    "    return result\n",
    "\n",
    "print(remove_duplicates(input_list), \"\\n\")\n",
    "print(remove_duplicates(wrong))"
   ]
  },
  {
   "attachments": {},
   "cell_type": "markdown",
   "metadata": {},
   "source": [
    "# Medium\n",
    "\n",
    "1. Given the following string, input_string, write a Python function that takes a string and removes all punctuation characters from it.\n",
    "\n",
    "`input_string = \"Hello, World! Do you think pineapples belong on pizza?\"`"
   ]
  },
  {
   "cell_type": "code",
   "execution_count": 3,
   "metadata": {},
   "outputs": [
    {
     "name": "stdout",
     "output_type": "stream",
     "text": [
      "Hello, World! Do you think pineapples belong on pizza?\n",
      "Hello World Do you think pineapples belong on pizza\n"
     ]
    }
   ],
   "source": [
    "# Everyone dislikes regular expressions, so let's use that.\n",
    "# Learn about regex here -> https://regex101.com/\n",
    "\n",
    "input_string = \"Hello, World! Do you think pineapples belong on pizza?\"\n",
    "\n",
    "def remove_punc(s: str) ->str:\n",
    "    from re import sub # Part of the python standard library\n",
    "    \n",
    "    # Error check input\n",
    "    if type(s) != str:\n",
    "        print('Please enter a string!')\n",
    "        return None\n",
    "\n",
    "    # Remove anything that is not a word character, digit character, or whitespace\n",
    "    result = sub(r'[^\\w\\d\\s]', '', s)\n",
    "\n",
    "    return result\n",
    "\n",
    "print(input_string)\n",
    "print(remove_punc(input_string))\n"
   ]
  },
  {
   "attachments": {},
   "cell_type": "markdown",
   "metadata": {},
   "source": [
    "2. Given the following string, input_string, write a Python function that takes a string and removes all stop words (e.g. \"the\", \"a\", \"an\") from it.\n",
    "\n",
    "`input_string = \"The quick brown fox jumps over the lazy dog\"`"
   ]
  },
  {
   "cell_type": "code",
   "execution_count": 4,
   "metadata": {},
   "outputs": [
    {
     "name": "stdout",
     "output_type": "stream",
     "text": [
      "The quick brown fox jumps over the lazy dog\n",
      "quick brown fox jumps over lazy dog\n"
     ]
    }
   ],
   "source": [
    "# How far do you want to take this?\n",
    "# Like use all of the natural language toolkit stop words?\n",
    "# I will just use the given stop words. The function is the same regardless\n",
    "\n",
    "input_string = \"The quick brown fox jumps over the lazy dog\"\n",
    "\n",
    "def remove_stopwords(s: str) ->str:\n",
    "    # Error check input\n",
    "    if type(s) != str:\n",
    "        print('Please enter a string!')\n",
    "        return None\n",
    "\n",
    "    # Have a list of stop words\n",
    "    stop_words = [\"the\", \"a\", \"an\"] # This could be way longer\n",
    "\n",
    "    # Make all words lower case and split into a string\n",
    "    string_list = s.lower().split(sep=\" \")\n",
    "\n",
    "    # Remove stop words from the string list\n",
    "    string_list = [word for word in string_list if word not in stop_words]\n",
    "\n",
    "    # Convert the list into a string again\n",
    "    new_string = ' '.join([str(word) for word in string_list])\n",
    "\n",
    "    return new_string\n",
    "\n",
    "print(input_string)\n",
    "print(remove_stopwords(input_string))"
   ]
  },
  {
   "attachments": {},
   "cell_type": "markdown",
   "metadata": {},
   "source": [
    "# Hard\n",
    "\n",
    "1. Given the following string, input_string, write a Python function that takes a string and performs stemming on it to reduce all words to their base form (e.g. \"running\" to \"run\").\n",
    "\n",
    "`input_string = \"I am running on the beach and feeling amazing\"`"
   ]
  },
  {
   "cell_type": "code",
   "execution_count": 5,
   "metadata": {},
   "outputs": [
    {
     "name": "stdout",
     "output_type": "stream",
     "text": [
      "I am running on the beach and feeling amazing\n",
      "['i', 'am', 'run', 'on', 'the', 'beach', 'and', 'feel', 'amaz']\n"
     ]
    }
   ],
   "source": [
    "# Dang, nice. Good for NLP work!\n",
    "# I assume the output is a string\n",
    "\n",
    "input_string = \"I am running on the beach and feeling amazing\"\n",
    "\n",
    "def remove_stems(s: str) ->str:\n",
    "    # Error check input\n",
    "    if type(s) != str:\n",
    "        print('Please enter a string!')\n",
    "        return None\n",
    "\n",
    "    from nltk.stem.snowball import SnowballStemmer\n",
    "    stemmer = SnowballStemmer(language=\"english\")\n",
    "\n",
    "    string_list = s.lower().split(sep=\" \")\n",
    "    \n",
    "    stem_list = [stemmer.stem(w) for w in string_list]\n",
    "\n",
    "    return stem_list\n",
    "\n",
    "print(input_string)\n",
    "print(remove_stems(input_string))"
   ]
  },
  {
   "attachments": {},
   "cell_type": "markdown",
   "metadata": {},
   "source": [
    "It seems that stemming removes characters but does not add characters as needed,\n",
    "such as turning \"amazing\" to \"amaze\". Does this mean that one just needs to make\n",
    "a dictionary with a key being each version of a word and the value being the \n",
    "root word?"
   ]
  },
  {
   "attachments": {},
   "cell_type": "markdown",
   "metadata": {},
   "source": [
    "2. Given the following numpy array, data, write a Python program to remove outliers using the Z-score method.\n",
    "\n",
    "`data = np.array([1, 2, 3, 4, 5, 6, 7, 8, 9, 10, 100])`"
   ]
  },
  {
   "cell_type": "code",
   "execution_count": 6,
   "metadata": {},
   "outputs": [
    {
     "name": "stdout",
     "output_type": "stream",
     "text": [
      "[  1   2   3   4   5   6   7   8   9  10 100]\n",
      "[ 0  1  2  3  4  5  6  7  8  9 10]\n"
     ]
    }
   ],
   "source": [
    "# I assume the output is a new numpy array\n",
    "# I assume we filter out any z_score > 3\n",
    "import numpy as np\n",
    "\n",
    "data = np.array([1, 2, 3, 4, 5, 6, 7, 8, 9, 10, 100])\n",
    "#print(type(data))\n",
    "\n",
    "def remove_outliers(array):\n",
    "    # Error check input\n",
    "    if type(array) != np.ndarray:\n",
    "        print('Please enter a numpy array!')\n",
    "        return None\n",
    "    \n",
    "    # Calculate the mean and standard deviation of the array\n",
    "    mean = np.mean(array)\n",
    "    std = np.std(array)\n",
    "\n",
    "    # Create the filtered array\n",
    "    filtered_array = []\n",
    "    for i in range(len(array)):\n",
    "        z_score = (i-mean)/std\n",
    "        if abs(z_score) <= 3:\n",
    "            filtered_array.append(i)\n",
    "\n",
    "    # Convert the filtered array to a numpy array\n",
    "    filtered_array = np.array(filtered_array)\n",
    "\n",
    "    return filtered_array\n",
    "\n",
    "print(data)\n",
    "print(remove_outliers(data))"
   ]
  }
 ],
 "metadata": {
  "kernelspec": {
   "display_name": "Python 3",
   "language": "python",
   "name": "python3"
  },
  "language_info": {
   "codemirror_mode": {
    "name": "ipython",
    "version": 3
   },
   "file_extension": ".py",
   "mimetype": "text/x-python",
   "name": "python",
   "nbconvert_exporter": "python",
   "pygments_lexer": "ipython3",
   "version": "3.11.3"
  },
  "orig_nbformat": 4
 },
 "nbformat": 4,
 "nbformat_minor": 2
}
