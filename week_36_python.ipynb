{
 "cells": [
  {
   "attachments": {},
   "cell_type": "markdown",
   "metadata": {},
   "source": [
    "# Week 36 Python Challenge"
   ]
  },
  {
   "attachments": {},
   "cell_type": "markdown",
   "metadata": {},
   "source": [
    "# Easy\n",
    "\n",
    "1. Write a Python function that takes a list of numbers and calculates the geometric mean.\n",
    "\n",
    "Do not use built in functions."
   ]
  },
  {
   "cell_type": "code",
   "execution_count": 15,
   "metadata": {},
   "outputs": [
    {
     "name": "stdout",
     "output_type": "stream",
     "text": [
      "2.605171084697352 \n",
      "\n",
      "Please enter a list!\n",
      "None\n"
     ]
    }
   ],
   "source": [
    "# Geometric mean is the n-root of the product of n values.\n",
    "\n",
    "geo_mean_list = [1, 2, 3, 4, 5, 5, 4, 3, 2, 1]\n",
    "wrong = \"apple\"\n",
    "\n",
    "def geometric_mean(l: list) ->float:\n",
    "    # Error check input type\n",
    "    if type(l) != list:\n",
    "        print('Please enter a list!')\n",
    "        return None\n",
    "    \n",
    "    # Get the length of the list\n",
    "    n = len(l)\n",
    "\n",
    "    # For loop to calculate the product\n",
    "    result = l[0]\n",
    "    for i in range(1, n):\n",
    "        result *= l[i]\n",
    "\n",
    "    # Take the n-root of the result\n",
    "    result = result ** (1/n)\n",
    "\n",
    "    # Return the result\n",
    "    return result\n",
    "\n",
    "print(geometric_mean(geo_mean_list), \"\\n\")\n",
    "print(geometric_mean(wrong))"
   ]
  },
  {
   "attachments": {},
   "cell_type": "markdown",
   "metadata": {},
   "source": [
    "2. Given input_list = [1, 2, 2, 45, 60, 3, 3, 3, 4, 5, 5]. Write a Python program to remove duplicates from the given list of values.\n",
    "\n",
    "Note: Do not use built in functions. \n",
    "\n",
    "Comment: One adds a value to a list by using `append()`, so..."
   ]
  },
  {
   "cell_type": "code",
   "execution_count": 19,
   "metadata": {},
   "outputs": [
    {
     "name": "stdout",
     "output_type": "stream",
     "text": [
      "[1, 2, 45, 60, 3, 4, 5] \n",
      "\n",
      "Please enter a list!\n",
      "None\n"
     ]
    }
   ],
   "source": [
    "input_list = [1, 2, 2, 45, 60, 3, 3, 3, 4, 5, 5]\n",
    "wrong = \"apple\"\n",
    "\n",
    "def remove_duplicates(l: list) ->list:\n",
    "    # Error check input type\n",
    "    if type(l) != list:\n",
    "        print('Please enter a list!')\n",
    "        return None\n",
    "    \n",
    "    # Make an empty list of non-duplicates\n",
    "    result=[]\n",
    "    for i in l:\n",
    "        if i not in result:\n",
    "            result.append(i)\n",
    "\n",
    "    return result\n",
    "\n",
    "print(remove_duplicates(input_list), \"\\n\")\n",
    "print(remove_duplicates(wrong))"
   ]
  },
  {
   "attachments": {},
   "cell_type": "markdown",
   "metadata": {},
   "source": [
    "# Medium\n",
    "\n",
    "1. Given the following string, input_string, write a Python function that takes a string and removes all punctuation characters from it.\n",
    "\n",
    "`input_string = \"Hello, World! Do you think pineapples belong on pizza?\"`"
   ]
  },
  {
   "cell_type": "code",
   "execution_count": 20,
   "metadata": {},
   "outputs": [
    {
     "name": "stdout",
     "output_type": "stream",
     "text": [
      "Hello, World! Do you think pineapples belong on pizza?\n",
      "Hello World Do you think pineapples belong on pizza\n"
     ]
    }
   ],
   "source": [
    "# Everyone dislikes regular expressions, so let's use that.\n",
    "# Learn about regex here -> https://regex101.com/\n",
    "\n",
    "input_string = \"Hello, World! Do you think pineapples belong on pizza?\"\n",
    "\n",
    "def remove_punc(s: str) ->str:\n",
    "    from re import sub\n",
    "    \n",
    "    # Error check input\n",
    "    if type(s) != str:\n",
    "        print('Please enter a string!')\n",
    "        return None\n",
    "\n",
    "    # Remove anything that is not a word character, digit character, or whitespace\n",
    "    result = sub(r'[^\\w\\d\\s]', '', s)\n",
    "\n",
    "    return result\n",
    "\n",
    "print(input_string)\n",
    "print(remove_punc(input_string))\n"
   ]
  },
  {
   "attachments": {},
   "cell_type": "markdown",
   "metadata": {},
   "source": [
    "2. Given the following string, input_string, write a Python function that takes a string and removes all stop words (e.g. \"the\", \"a\", \"an\") from it.\n",
    "\n",
    "`input_string = \"The quick brown fox jumps over the lazy dog\"`"
   ]
  },
  {
   "cell_type": "code",
   "execution_count": 21,
   "metadata": {},
   "outputs": [
    {
     "ename": "ModuleNotFoundError",
     "evalue": "No module named 'nltk'",
     "output_type": "error",
     "traceback": [
      "\u001b[1;31m---------------------------------------------------------------------------\u001b[0m",
      "\u001b[1;31mModuleNotFoundError\u001b[0m                       Traceback (most recent call last)",
      "Cell \u001b[1;32mIn[21], line 1\u001b[0m\n\u001b[1;32m----> 1\u001b[0m \u001b[39mimport\u001b[39;00m \u001b[39mnltk\u001b[39;00m\n",
      "\u001b[1;31mModuleNotFoundError\u001b[0m: No module named 'nltk'"
     ]
    }
   ],
   "source": [
    "# How far do you want to take this?\n",
    "# Like use all of the natural language toolkit stop words?\n",
    "\n",
    "input_string = \"The quick brown fox jumps over the lazy dog\"\n",
    "\n",
    "def remove_stopwords(s: str) ->str:\n",
    "    # Error check input\n",
    "    if type(s) != str:\n",
    "        print('Please enter a string!')\n",
    "        return None\n",
    "\n",
    "    # Have a list of stop words\n",
    "    stop_words = [\"the\", \"a\", \"an\"] # This could be way longer\n",
    "\n",
    "    \n",
    "\n",
    "\n",
    "    return None\n"
   ]
  },
  {
   "attachments": {},
   "cell_type": "markdown",
   "metadata": {},
   "source": [
    "# Hard\n",
    "\n",
    "1. Given the following string, input_string, write a Python function that takes a string and performs stemming on it to reduce all words to their base form (e.g. \"running\" to \"run\").\n",
    "\n",
    "`input_string = \"I am running on the beach and feeling amazing\"`"
   ]
  },
  {
   "cell_type": "code",
   "execution_count": null,
   "metadata": {},
   "outputs": [],
   "source": []
  },
  {
   "attachments": {},
   "cell_type": "markdown",
   "metadata": {},
   "source": [
    "2. Given the following numpy array, data, write a Python program to remove outliers using the Z-score method.\n",
    "\n",
    "`data = np.array([1, 2, 3, 4, 5, 6, 7, 8, 9, 10, 100])`"
   ]
  },
  {
   "cell_type": "code",
   "execution_count": null,
   "metadata": {},
   "outputs": [],
   "source": []
  }
 ],
 "metadata": {
  "kernelspec": {
   "display_name": "Python 3",
   "language": "python",
   "name": "python3"
  },
  "language_info": {
   "codemirror_mode": {
    "name": "ipython",
    "version": 3
   },
   "file_extension": ".py",
   "mimetype": "text/x-python",
   "name": "python",
   "nbconvert_exporter": "python",
   "pygments_lexer": "ipython3",
   "version": "3.11.3"
  },
  "orig_nbformat": 4
 },
 "nbformat": 4,
 "nbformat_minor": 2
}
